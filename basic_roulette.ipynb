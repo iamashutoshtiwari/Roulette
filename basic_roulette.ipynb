{
 "cells": [
  {
   "cell_type": "code",
   "execution_count": null,
   "id": "a341e300-f268-4957-b039-27387debd603",
   "metadata": {},
   "outputs": [],
   "source": [
    "import pandas as pd\n",
    "import random\n",
    "\n",
    "\n",
    "    \n",
    "data = {'num': range(37),\n",
    "        'bet': 0,\n",
    "        'color': ['black' if num % 2 == 0 else 'red' if num != 0 else 'white' for num in range(37)]}\n",
    "\n",
    "df = pd.DataFrame(data)\n",
    "money=100000  \n",
    "while True:\n",
    "    \n",
    "    ui_n=int(input(f'''Balance: Rs. {money}\n",
    "                 enter the betting number(0 - 36): '''))\n",
    "    assert 0<=ui_n<=36, f'input {ui_n} is invalid'\n",
    "\n",
    "    ui=int(input(f'''Balance: Rs. {money} \n",
    "                 enter the betting amount: '''))\n",
    "    assert money>ui,'insufficient balance'\n",
    "    assert ui>=0,f'input {ui} is invalid'\n",
    "    \n",
    "    \n",
    "    money=money-ui\n",
    "    \n",
    "    df.loc[df['num']==ui_n, 'bet'] += ui\n",
    "\n",
    "    \n",
    "    repeat=input('press n to stop, press any other key to bet again')\n",
    "    if repeat=='n':\n",
    "        df1=df.loc[df.bet>0]\n",
    "        minbet=df1.bet.min()\n",
    "        minnum=df[df.bet==minbet]\n",
    "\n",
    "        y=list(minnum.num)\n",
    "        winner=random.choice(y)\n",
    "        w=df1[['num','color']].loc[df1.num==winner]\n",
    "        print(f'winner is number: {w.num.item()} and color is {w.color.item()}')\n",
    "\n",
    "        \n",
    "        break\n",
    "        \n"
   ]
  }
 ],
 "metadata": {
  "kernelspec": {
   "display_name": "Python 3 (ipykernel)",
   "language": "python",
   "name": "python3"
  },
  "language_info": {
   "codemirror_mode": {
    "name": "ipython",
    "version": 3
   },
   "file_extension": ".py",
   "mimetype": "text/x-python",
   "name": "python",
   "nbconvert_exporter": "python",
   "pygments_lexer": "ipython3",
   "version": "3.9.13"
  }
 },
 "nbformat": 4,
 "nbformat_minor": 5
}
